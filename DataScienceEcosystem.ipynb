{
 "cells": [
  {
   "cell_type": "markdown",
   "id": "89336c5c",
   "metadata": {},
   "source": [
    "# Data Science Tools and Ecosystem "
   ]
  },
  {
   "cell_type": "markdown",
   "id": "4fb2b9d1",
   "metadata": {},
   "source": [
    "<h2>Author</h2>\n",
    "Matin Alinoori"
   ]
  },
  {
   "cell_type": "markdown",
   "id": "0dc3e7b2",
   "metadata": {},
   "source": [
    "In this notebook, Data Science Tools and Ecosystem are summarized."
   ]
  },
  {
   "cell_type": "markdown",
   "id": "51c2a2e3",
   "metadata": {},
   "source": [
    "<p><b>Objectives:</b></p>\n",
    "<ul>\n",
    "    <li>List popular languages for Data Science:</li>\n",
    "    <li>The commonly data science libraries</li>\n",
    "    <li>Data science tools</li>\n",
    "    <li>Arithmetic Expressions in python</li>\n",
    "</ul"
   ]
  },
  {
   "cell_type": "markdown",
   "id": "5108c263",
   "metadata": {},
   "source": [
    "Some of the popular languages that Data Scientists use are:\n",
    "<ol type=\"1\">\n",
    "    <li>Python</li>\n",
    "    <li>R</li>\n",
    "    <li>SQL</li>\n",
    "    <li>Scala</li>\n",
    "</ol>"
   ]
  },
  {
   "cell_type": "markdown",
   "id": "56895c8e",
   "metadata": {},
   "source": [
    "Some of the commonly used libraries used by Data Scientists include:\n",
    "<ol type=\"1\">\n",
    "    <li>TensorFlow</li>\n",
    "    <li>PyTorch</li>\n",
    "    <li>NumPy</li>\n",
    "    <li>Scikit-learn</li>\n",
    "    <li>SciPy</li>\n",
    "</ol>"
   ]
  },
  {
   "cell_type": "markdown",
   "id": "1cd2c3cb",
   "metadata": {},
   "source": [
    "<table style=\"float:left; border:1px solid black;\">\n",
    "  <tr style=\"border:1px solid black; text-align:center;\">\n",
    "    <td>Data Science Tools</td>\n",
    "  </tr>\n",
    "  <tr style=\"border:1px solid black;\">\n",
    "    <td style=\"text-align:center;\">Jupyter Notebooks</td>\n",
    "  </tr>\n",
    "  <tr style=\"border:1px solid black;\">\n",
    "    <td style=\"text-align:center;\">Spyder</td>\n",
    "  </tr>\n",
    "  <tr style=\"border:1px solid black;\">\n",
    "    <td style=\"text-align:center;\">R Studio</td>\n",
    "  </tr>\n",
    "</table>"
   ]
  },
  {
   "cell_type": "markdown",
   "id": "0626ece7",
   "metadata": {},
   "source": [
    "### Below are a few examples of how to evaluate arithmetic expressions in Python.\n"
   ]
  },
  {
   "cell_type": "code",
   "execution_count": 5,
   "id": "a06cfc3e",
   "metadata": {},
   "outputs": [
    {
     "data": {
      "text/plain": [
       "17"
      ]
     },
     "execution_count": 5,
     "metadata": {},
     "output_type": "execute_result"
    }
   ],
   "source": [
    "# This a simple arithmetic expression to mutiply then add integers.\n",
    "(3*4)+5"
   ]
  },
  {
   "cell_type": "code",
   "execution_count": 6,
   "id": "a9fabd3c",
   "metadata": {
    "scrolled": true
   },
   "outputs": [
    {
     "data": {
      "text/plain": [
       "3.3333333333333335"
      ]
     },
     "execution_count": 6,
     "metadata": {},
     "output_type": "execute_result"
    }
   ],
   "source": [
    "# This will convert 200 minutes to hours by diving by 60\n",
    "200/60"
   ]
  }
 ],
 "metadata": {
  "kernelspec": {
   "display_name": "Python 3 (ipykernel)",
   "language": "python",
   "name": "python3"
  },
  "language_info": {
   "codemirror_mode": {
    "name": "ipython",
    "version": 3
   },
   "file_extension": ".py",
   "mimetype": "text/x-python",
   "name": "python",
   "nbconvert_exporter": "python",
   "pygments_lexer": "ipython3",
   "version": "3.9.13"
  }
 },
 "nbformat": 4,
 "nbformat_minor": 5
}
